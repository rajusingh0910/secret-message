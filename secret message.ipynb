{
 "cells": [
  {
   "cell_type": "code",
   "execution_count": 16,
   "metadata": {},
   "outputs": [
    {
     "name": "stdout",
     "output_type": "stream",
     "text": [
      "Current working directory is C:\\Users\\Chaudhary\\Downloads\\Python\\prank\n"
     ]
    }
   ],
   "source": [
    "import os\n",
    "def prank():\n",
    "    file_list = os.listdir(r\"C:\\Users\\Chaudhary\\Downloads\\Python\\prank\")\n",
    "    saved_path = os.getcwd()\n",
    "    print (\"Current working directory is \" + saved_path)\n",
    "    os.chdir(r\"C:\\Users\\Chaudhary\\Downloads\\Python\\prank\")\n",
    "    \n",
    "    for file_name in file_list :\n",
    "        os.rename(file_name , file_name.translate(None, \"0123456789\"))\n",
    "    os.chdir(saved_path) \n",
    "prank ()"
   ]
  },
  {
   "cell_type": "code",
   "execution_count": null,
   "metadata": {
    "collapsed": true
   },
   "outputs": [],
   "source": []
  }
 ],
 "metadata": {
  "kernelspec": {
   "display_name": "Python 2",
   "language": "python",
   "name": "python2"
  },
  "language_info": {
   "codemirror_mode": {
    "name": "ipython",
    "version": 2
   },
   "file_extension": ".py",
   "mimetype": "text/x-python",
   "name": "python",
   "nbconvert_exporter": "python",
   "pygments_lexer": "ipython2",
   "version": "2.7.13"
  }
 },
 "nbformat": 4,
 "nbformat_minor": 2
}
